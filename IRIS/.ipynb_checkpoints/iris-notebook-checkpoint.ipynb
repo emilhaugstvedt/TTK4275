{
 "cells": [
  {
   "cell_type": "code",
   "execution_count": 6,
   "metadata": {},
   "outputs": [],
   "source": [
    "from sklearn import datasets\n",
    "import numpy as np"
   ]
  },
  {
   "cell_type": "markdown",
   "metadata": {},
   "source": [
    "IRIS\n",
    "-------\n",
    "Import the data:"
   ]
  },
  {
   "cell_type": "code",
   "execution_count": 8,
   "metadata": {},
   "outputs": [],
   "source": [
    "irisData = datasets.load_iris()['data']\n",
    "class1 = irisData[0:50]\n",
    "class2 = irisData[50:100]\n",
    "class3 = irisData[100:150]\n",
    "classes = [class1, class2, class3]\n",
    "\n",
    "features = np.array([0,1,2,3])"
   ]
  },
  {
   "cell_type": "markdown",
   "metadata": {},
   "source": [
    "Extract the training and testing data for the different classes: "
   ]
  },
  {
   "cell_type": "code",
   "execution_count": 9,
   "metadata": {},
   "outputs": [],
   "source": [
    "training1 = [class1[0:30], features]\n",
    "training2 = [class2[0:30], features]\n",
    "training3 = [class3[0:30], features]\n",
    "training = [training1, training2, training3]\n",
    "\n",
    "testing1 = [class1[30:50], features]\n",
    "testing2 = [class2[30:50], features]\n",
    "testing3 = [class3[30:50], features]\n",
    "testing = [testing1, testing2, testing3]"
   ]
  },
  {
   "cell_type": "markdown",
   "metadata": {},
   "source": [
    "In order to classify the data we need to define the sigmoid function:"
   ]
  },
  {
   "cell_type": "code",
   "execution_count": 10,
   "metadata": {},
   "outputs": [],
   "source": [
    "def sigmoid(X):\n",
    "    return 1/(1+np.exp(-X))"
   ]
  },
  {
   "cell_type": "markdown",
   "metadata": {},
   "source": [
    "The training is done by minimizing the mean square error of the classifier.  The MSE is given by:\n",
    "\n",
    "$\n",
    "MSE = \\frac{1}{2}\\sum_{k=1}^{N} (g_k - t_k)^T(g_k-t_k)\n",
    "$\n",
    "\n",
    "t_k is the true classification of each $x_k$ and $g_k = Wx_k$. W is a weighting matrix for the differnte values in the vector x. This the only tweakable parameter and thus, in order to minimize the MSE, we need to find the gradient of the MSE with respect to W and update W with a step size, $\\alpha$ times the gradient. This is done many times iterativly.\n",
    "\n",
    "\n",
    "Defining some parameters for the trainging of the classifier:"
   ]
  },
  {
   "cell_type": "code",
   "execution_count": 104,
   "metadata": {},
   "outputs": [],
   "source": [
    "N_iter = 5000 # Number of iterations\n",
    "alpha = 1 # Step length\n",
    "\n",
    "features = [0, 1, 2, 3]\n",
    "F = len(features) # Number of features\n",
    "C = len(classes)  # Number of classes"
   ]
  },
  {
   "cell_type": "markdown",
   "metadata": {},
   "source": [
    "Defining the weighting matrix and the target data, $t_k$:"
   ]
  },
  {
   "cell_type": "code",
   "execution_count": 150,
   "metadata": {
    "tags": []
   },
   "outputs": [
    {
     "output_type": "stream",
     "name": "stdout",
     "text": [
      "5.665105419993294\n[[-2.85996390e+00 -8.52474885e-01 -3.17374011e+00 -1.16749871e+00\n  -3.74992033e-01]\n [-2.07730572e+00 -1.34741292e+00 -1.02861539e+00 -3.37459567e-01\n  -3.74962388e-01]\n [-1.60307851e+00 -1.19823472e+00  1.84082703e-03  1.81929364e-01\n  -3.59220179e-01]]\n"
     ]
    }
   ],
   "source": [
    "alpha = 0.1\n",
    "W = np.zeros((C, F))\n",
    "w_0 = np.zeros((C, 1))\n",
    "W = np.concatenate((W, w_0), axis=1)\n",
    "\n",
    "target1 = np.array(([1],[0],[0]))\n",
    "target2 = np.array(([0],[1],[0]))\n",
    "target3 = np.array(([0],[0],[1]))\n",
    "target = [target1, target2, target3]\n",
    "\n",
    "W_last = [[1, 1, 1, 1, 1],\n",
    "          [1, 1, 1, 1, 1],\n",
    "          [1, 1, 1, 1, 1]]\n",
    "\n",
    "for _ in range(N_iter):\n",
    "        W_prev = W\n",
    "        grad_MSE = np.zeros((C,F+1))\n",
    "        for k in range(len(training[0])):\n",
    "                for (x, tk) in zip(training, target):\n",
    "                        xk = np.append(x[k],1)\n",
    "                        xk = xk.reshape(F+1, 1) \n",
    "                        zk = W@xk\n",
    "                        gk = sigmoid(zk)\n",
    "                        temp = np.multiply(gk-tk, gk)\n",
    "                        temp = np.multiply(temp, np.ones((C,1))-gk)\n",
    "                        grad_MSE += temp@xk.T\n",
    "        W = W_prev - alpha*grad_MSE\n",
    "print(np.linalg.norm(W))\n",
    "print(W)"
   ]
  },
  {
   "cell_type": "code",
   "execution_count": 152,
   "metadata": {},
   "outputs": [
    {
     "output_type": "stream",
     "name": "stdout",
     "text": [
      "[[-22.05697479]\n [-16.23628641]\n [-11.72919347]]\n[[-23.94482133]\n [-17.85152409]\n [-13.01430921]]\n[[-23.61931136]\n [-18.27801412]\n [-13.58703662]]\n[[-24.36192387]\n [-18.96683154]\n [-14.16977479]]\n[[-22.02559717]\n [-16.34115544]\n [-11.88968541]]\n[[-21.44471902]\n [-16.37504269]\n [-12.17036898]]\n[[-23.44781744]\n [-17.92078096]\n [-13.33119457]]\n[[-22.01771073]\n [-16.87825441]\n [-12.50717979]]\n[[-19.87561971]\n [-14.96203822]\n [-10.96869085]]\n[[-22.85333242]\n [-17.16084046]\n [-12.56977153]]\n[[-22.13458536]\n [-16.91587406]\n [-12.51146238]]\n[[-19.68163355]\n [-14.2603257 ]\n [-10.27204145]]\n[[-20.04611469]\n [-15.2315208 ]\n [-11.20833779]]\n[[-23.43695701]\n [-17.32569655]\n [-12.45633132]]\n[[-24.69731816]\n [-18.1787437 ]\n [-13.01194321]]\n[[-21.45372915]\n [-15.929568  ]\n [-11.59154523]]\n[[-23.51169638]\n [-17.80266717]\n [-13.04888133]]\n[[-20.93548148]\n [-15.74984348]\n [-11.52876941]]\n[[-23.68106766]\n [-17.98052548]\n [-13.24985765]]\n[[-22.16471453]\n [-16.71550706]\n [-12.28982429]]\n[[-31.49519418]\n [-19.31387884]\n [-11.84479788]]\n[[-31.0610703 ]\n [-19.17727134]\n [-11.8631749 ]]\n[[-33.04304969]\n [-20.47790193]\n [-12.66681483]]\n[[-37.89053009]\n [-22.26268536]\n [-12.91244979]]\n[[-34.40930028]\n [-20.76961062]\n [-12.32937054]]\n[[-36.58301844]\n [-22.58870517]\n [-13.7523186 ]]\n[[-38.84724885]\n [-23.81057242]\n [-14.53282791]]\n[[-35.83566161]\n [-21.52564327]\n [-12.96994685]]\n[[-33.47829727]\n [-20.70613369]\n [-12.68710844]]\n[[-32.44868943]\n [-19.72183512]\n [-11.92786731]]\n[[-33.68668309]\n [-20.23427661]\n [-12.06514739]]\n[[-36.61189915]\n [-22.2928402 ]\n [-13.46953435]]\n[[-33.27517622]\n [-20.44602217]\n [-12.54680727]]\n[[-28.27634482]\n [-17.59243104]\n [-10.9425485 ]]\n[[-33.53992882]\n [-20.40477136]\n [-12.32745394]]\n[[-33.9649178 ]\n [-20.98297985]\n [-12.86542515]]\n[[-33.99642019]\n [-20.88198451]\n [-12.72740874]]\n[[-35.74377614]\n [-22.02349891]\n [-13.52876391]]\n[[-27.89746402]\n [-17.79480553]\n [-11.32486261]]\n[[-33.59379869]\n [-20.64438168]\n [-12.60776935]]\n[[-45.50371675]\n [-26.43550792]\n [-15.22016354]]\n[[-48.85504549]\n [-29.16390427]\n [-17.20119234]]\n[[-41.40713242]\n [-23.94513238]\n [-13.56342664]]\n[[-38.71701687]\n [-22.98687241]\n [-13.53138976]]\n[[-39.4446493 ]\n [-22.78249042]\n [-12.98839963]]\n[[-46.99920038]\n [-27.46316604]\n [-15.8679623 ]]\n[[-41.8661207 ]\n [-24.61334147]\n [-14.08567375]]\n[[-40.87850139]\n [-24.11151089]\n [-13.99585288]]\n[[-37.42765026]\n [-22.42581653]\n [-13.23608659]]\n[[-42.34135894]\n [-25.14854008]\n [-14.74299741]]\n[[-42.75436379]\n [-25.04003988]\n [-14.36743474]]\n[[-41.62273665]\n [-24.90744737]\n [-14.70716379]]\n[[-37.66878692]\n [-21.94846209]\n [-12.53725528]]\n[[-43.96097983]\n [-25.6573504 ]\n [-14.66520675]]\n[[-43.35898265]\n [-25.44612996]\n [-14.58870466]]\n[[-41.28287039]\n [-24.46010648]\n [-14.26654053]]\n[[-38.61089988]\n [-22.61477083]\n [-13.09933168]]\n[[-40.360628  ]\n [-23.94340746]\n [-14.00050364]]\n[[-40.82862642]\n [-24.16614186]\n [-13.943927  ]]\n[[-38.09377591]\n [-22.52667058]\n [-13.07522649]]\n"
     ]
    }
   ],
   "source": [
    "for c in range(len(classes)):\n",
    "    for x in testing[c]:\n",
    "        xk = np.append(x,1)\n",
    "        xk = xk.reshape(F+1, 1) \n",
    "        zk = W@xk\n",
    "        print(zk)\n",
    "        gk = sigmoid(zk)"
   ]
  },
  {
   "cell_type": "code",
   "execution_count": null,
   "metadata": {},
   "outputs": [],
   "source": []
  },
  {
   "cell_type": "code",
   "execution_count": null,
   "metadata": {},
   "outputs": [],
   "source": []
  }
 ],
 "metadata": {
  "kernelspec": {
   "name": "python385jvsc74a57bd06f46f7eecf513ccb9723df9b1e51a51990d29cc5250a5d50f9bea070973a2595",
   "display_name": "Python 3.8.5 64-bit ('base': conda)"
  },
  "language_info": {
   "codemirror_mode": {
    "name": "ipython",
    "version": 3
   },
   "file_extension": ".py",
   "mimetype": "text/x-python",
   "name": "python",
   "nbconvert_exporter": "python",
   "pygments_lexer": "ipython3",
   "version": "3.8.5"
  },
  "metadata": {
   "interpreter": {
    "hash": "6f46f7eecf513ccb9723df9b1e51a51990d29cc5250a5d50f9bea070973a2595"
   }
  }
 },
 "nbformat": 4,
 "nbformat_minor": 2
}