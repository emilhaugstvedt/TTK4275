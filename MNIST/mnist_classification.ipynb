{
 "cells": [
  {
   "cell_type": "code",
   "execution_count": 1,
   "id": "7bd15539",
   "metadata": {},
   "outputs": [],
   "source": [
    "import matplotlib.pyplot as plt\n",
    "import pandas as pd\n",
    "import numpy as np\n",
    "from mnist import MNIST\n",
    "import time as time\n",
    "from sklearn.neighbors import KNeighborsClassifier\n",
    "from tqdm import tqdm\n",
    "\n",
    "mnist = MNIST('data')\n",
    "\n",
    "# Necessary format for sklearn\n",
    "x_train, y_train = mnist.load_training()\n",
    "x_test, y_test = mnist.load_testing()\n",
    "x_train = np.asarray(x_train).astype(np.float32)\n",
    "y_train = np.asarray(y_train).astype(np.int32)\n",
    "x_test = np.asarray(x_test).astype(np.float32)\n",
    "y_test = np.asarray(y_test).astype(np.int32)"
   ]
  },
  {
   "cell_type": "code",
   "execution_count": 2,
   "id": "4c254c98",
   "metadata": {},
   "outputs": [
    {
     "data": {
      "image/png": "[encoded data removed]",
      "text/plain": [
       "<Figure size 432x288 with 1 Axes>"
      ]
     },
     "metadata": {
      "needs_background": "light"
     },
     "output_type": "display_data"
    }
   ],
   "source": [
    "\n",
    "\n",
    "plt.figure()\n",
    "plt.imshow(x_train[0].reshape(28,28))\n",
    "plt.show()\n",
    "\n",
    "\n"
   ]
  },
  {
   "cell_type": "code",
   "execution_count": 3,
   "id": "ee5b8dd5",
   "metadata": {},
   "outputs": [
    {
     "name": "stderr",
     "output_type": "stream",
     "text": [
      "100%|██████████| 5/5 [00:00<00:00, 20.39it/s]\n"
     ]
    },
    {
     "name": "stdout",
     "output_type": "stream",
     "text": [
      "Mean time used:  0.05  seconds\n"
     ]
    }
   ],
   "source": [
    "from sklearn.neighbors import KNeighborsClassifier\n",
    "from sklearn.metrics import confusion_matrix, classification_report\n",
    "\n",
    "# Using KNN on the training set\n",
    "def KNNC(x_train, y_train,K, n=1):\n",
    "    time_array= []\n",
    "    model = KNeighborsClassifier(n_neighbors=K, metric=\"euclidean\")\n",
    "    for i in tqdm(range(n)):\n",
    "        t0 = time.time()\n",
    "        \n",
    "\n",
    "        model.fit(x_train, y_train)\n",
    "        time_array.append(time.time()-t0)\n",
    "    print(\"Mean time used: \",round(np.mean(time_array), 2), \" seconds\")\n",
    "    return model\n",
    "\n",
    "knn = KNNC(x_train, y_train,3, 5)\n",
    "\n",
    "y_pred = knn.predict(x_test)\n",
    "\n",
    "\n",
    "\n",
    "conf_mat = confusion_matrix(y_test, y_pred)\n",
    "reports = classification_report(y_test, y_pred)"
   ]
  },
  {
   "cell_type": "code",
   "execution_count": 4,
   "id": "2471e531",
   "metadata": {},
   "outputs": [
    {
     "name": "stdout",
     "output_type": "stream",
     "text": [
      "0.9705\n",
      "              precision    recall  f1-score   support\n",
      "\n",
      "           0       0.97      0.99      0.98       980\n",
      "           1       0.96      1.00      0.98      1135\n",
      "           2       0.98      0.97      0.97      1032\n",
      "           3       0.96      0.97      0.96      1010\n",
      "           4       0.98      0.97      0.97       982\n",
      "           5       0.97      0.96      0.96       892\n",
      "           6       0.98      0.99      0.98       958\n",
      "           7       0.96      0.96      0.96      1028\n",
      "           8       0.99      0.94      0.96       974\n",
      "           9       0.96      0.96      0.96      1009\n",
      "\n",
      "    accuracy                           0.97     10000\n",
      "   macro avg       0.97      0.97      0.97     10000\n",
      "weighted avg       0.97      0.97      0.97     10000\n",
      "\n"
     ]
    },
    {
     "data": {
      "image/png": "[encoded data removed]",
      "text/plain": [
       "<Figure size 432x288 with 2 Axes>"
      ]
     },
     "metadata": {
      "needs_background": "light"
     },
     "output_type": "display_data"
    }
   ],
   "source": [
    "import seaborn as sb\n",
    "correct = np.sum(np.diag(conf_mat))\n",
    "N_test = 10000\n",
    "print(correct/N_test)\n",
    "heatmap = sb.heatmap(conf_mat, annot=True, fmt=\"d\", cmap =\"magma\")\n",
    "\n",
    "print(reports)\n",
    "plt.savefig('mytable.png')"
   ]
  },
  {
   "cell_type": "code",
   "execution_count": 5,
   "id": "58206b5b",
   "metadata": {},
   "outputs": [
    {
     "name": "stdout",
     "output_type": "stream",
     "text": [
      "True: 4 Predicted: 9\n"
     ]
    },
    {
     "data": {
      "image/png": "[encoded data removed]",
      "text/plain": [
       "<Figure size 432x288 with 1 Axes>"
      ]
     },
     "metadata": {
      "needs_background": "light"
     },
     "output_type": "display_data"
    }
   ],
   "source": [
    "\n",
    "def show_missclassified(num):\n",
    "    missed = 0\n",
    "    for i in range(len(y_pred)):\n",
    "        if y_pred[i]!=y_test[i]:\n",
    "            missed += 1\n",
    "            print(\"True:\", y_test[i], \"Predicted:\", y_pred[i])\n",
    "            plt.figure(i)\n",
    "            plt.imshow(x_test[i].reshape(28,28))\n",
    "            plt.show()\n",
    "        if missed == num:\n",
    "            break\n",
    "            \n",
    "            \n",
    "\n",
    "show_missclassified(1)"
   ]
  },
  {
   "cell_type": "code",
   "execution_count": 6,
   "id": "1f880914",
   "metadata": {},
   "outputs": [
    {
     "name": "stdout",
     "output_type": "stream",
     "text": [
      "True: 7 Predicted: 7\n"
     ]
    },
    {
     "data": {
      "image/png": "[encoded data removed]",
      "text/plain": [
       "<Figure size 432x288 with 1 Axes>"
      ]
     },
     "metadata": {
      "needs_background": "light"
     },
     "output_type": "display_data"
    }
   ],
   "source": [
    "def show_classified(num):\n",
    "    missed = 0\n",
    "    for i in range(len(y_pred)):\n",
    "        if y_pred[i]==y_test[i]:\n",
    "            missed += 1\n",
    "            print(\"True:\", y_test[i], \"Predicted:\", y_pred[i])\n",
    "            plt.figure(i)\n",
    "            plt.imshow(x_test[i].reshape(28,28))\n",
    "            plt.show()\n",
    "        if missed == num:\n",
    "            break\n",
    "            \n",
    "show_classified(1)    "
   ]
  },
  {
   "cell_type": "code",
   "execution_count": 7,
   "id": "6dd31c0b",
   "metadata": {},
   "outputs": [
    {
     "name": "stderr",
     "output_type": "stream",
     "text": [
      "100%|██████████| 10/10 [02:24<00:00, 14.44s/it]\n"
     ]
    }
   ],
   "source": [
    "\n",
    "\n",
    "def get_class(x,y):\n",
    "    classes = {}\n",
    "    for key in np.unique(y):\n",
    "        classes[key] = []\n",
    "    for key, data in zip(y,x):\n",
    "        classes[key].append(data)\n",
    "    return classes\n",
    "        \n",
    "from sklearn.cluster import KMeans\n",
    "\n",
    "def create_templates(classes):\n",
    "    \n",
    "    k_means = KMeans(n_clusters=64)\n",
    "    items = tqdm(classes.items())\n",
    "    \n",
    "    templates = {}\n",
    "    for key, data in items:\n",
    "        classes_kmeans = k_means.fit(data)\n",
    "        template_data = classes_kmeans.cluster_centers_\n",
    "        templates[key] = template_data\n",
    "\n",
    "        \n",
    "    return templates\n",
    "\n",
    "\n",
    "classes = get_class(x_train, y_train)\n",
    "\n",
    "templates = create_templates(classes)\n"
   ]
  },
  {
   "cell_type": "code",
   "execution_count": 8,
   "id": "4b432357",
   "metadata": {},
   "outputs": [
    {
     "name": "stderr",
     "output_type": "stream",
     "text": [
      "100%|██████████| 5/5 [00:00<00:00, 198.37it/s]\n"
     ]
    },
    {
     "name": "stdout",
     "output_type": "stream",
     "text": [
      "Mean time used:  0.0  seconds\n"
     ]
    },
    {
     "ename": "NameError",
     "evalue": "name 'delta_time' is not defined",
     "output_type": "error",
     "traceback": [
      "\u001b[0;31m---------------------------------------------------------------------------\u001b[0m",
      "\u001b[0;31mNameError\u001b[0m                                 Traceback (most recent call last)",
      "\u001b[0;32m<ipython-input-8-064f8ab7032a>\u001b[0m in \u001b[0;36m<module>\u001b[0;34m\u001b[0m\n\u001b[1;32m      9\u001b[0m \u001b[0my_pred\u001b[0m \u001b[0;34m=\u001b[0m \u001b[0mcluster_knn\u001b[0m\u001b[0;34m.\u001b[0m\u001b[0mpredict\u001b[0m\u001b[0;34m(\u001b[0m\u001b[0mx_test\u001b[0m\u001b[0;34m)\u001b[0m\u001b[0;34m\u001b[0m\u001b[0;34m\u001b[0m\u001b[0m\n\u001b[1;32m     10\u001b[0m \u001b[0;34m\u001b[0m\u001b[0m\n\u001b[0;32m---> 11\u001b[0;31m \u001b[0mprint\u001b[0m\u001b[0;34m(\u001b[0m\u001b[0mdelta_time\u001b[0m\u001b[0;34m)\u001b[0m\u001b[0;34m\u001b[0m\u001b[0;34m\u001b[0m\u001b[0m\n\u001b[0m",
      "\u001b[0;31mNameError\u001b[0m: name 'delta_time' is not defined"
     ]
    }
   ],
   "source": [
    "template_xtrain = []\n",
    "template_ytrain = []\n",
    "\n",
    "for key,data in templates.items():\n",
    "    template_ytrain.extend([key]*len(data))\n",
    "    template_xtrain.extend(data)\n",
    "\n",
    "cluster_knn = KNNC(template_xtrain,template_ytrain,3,5)\n",
    "y_pred = cluster_knn.predict(x_test)\n",
    "\n",
    "print(delta_time)\n"
   ]
  },
  {
   "cell_type": "code",
   "execution_count": null,
   "id": "9779d5df",
   "metadata": {},
   "outputs": [],
   "source": [
    "conf_mat = confusion_matrix(y_test, y_pred)\n",
    "reports = classification_report(y_test, y_pred)\n",
    "correct = np.sum(np.diag(conf_mat))\n",
    "N_test = 10000\n",
    "print(correct/N_test)\n",
    "heatmap = sb.heatmap(conf_mat, annot=True, fmt=\"d\", cmap =\"magma\")\n",
    "print(reports)"
   ]
  },
  {
   "cell_type": "code",
   "execution_count": null,
   "id": "9a1c28c0",
   "metadata": {},
   "outputs": [],
   "source": [
    "for i in range(1):\n",
    "    print(i)"
   ]
  },
  {
   "cell_type": "code",
   "execution_count": null,
   "id": "af9b1340",
   "metadata": {},
   "outputs": [],
   "source": [
    "knn7 = KNNC(x_train, y_train,7, 5)\n",
    "\n",
    "y_pred = knn7.predict(x_test)\n",
    "\n",
    "\n",
    "\n",
    "conf_mat = confusion_matrix(y_test, y_pred)\n",
    "reports = classification_report(y_test, y_pred)\n",
    "\n",
    "print(correct/N_test)\n",
    "heatmap = sb.heatmap(conf_mat, annot=True, fmt=\"d\", cmap =\"magma\")\n",
    "print(reports)"
   ]
  },
  {
   "cell_type": "code",
   "execution_count": null,
   "id": "3e4bbe42",
   "metadata": {},
   "outputs": [],
   "source": [
    "t0= time.time()  \n",
    "y_pred = cluster_knn.predict(x_test[:1000])\n",
    "delta_time = time.time() - t0\n",
    "print(\"Prediction time (clustered): \",round(delta_time,2),\"s\")\n",
    "t0= time.time()  \n",
    "y_pred = knn.predict(x_test[:1000])\n",
    "delta_time = time.time() - t0\n",
    "print(\"Prediction time (K=3): \",round(delta_time,2),\"s\")\n",
    "t0= time.time()  \n",
    "y_pred = knn7.predict(x_test[:1000])\n",
    "delta_time = time.time() - t0\n",
    "print(\"Prediction time (K=7): \",round(delta_time,2),\"s\")"
   ]
  },
  {
   "cell_type": "code",
   "execution_count": null,
   "id": "fe94370c",
   "metadata": {},
   "outputs": [],
   "source": []
  },
  {
   "cell_type": "code",
   "execution_count": null,
   "id": "a90cd54a",
   "metadata": {},
   "outputs": [],
   "source": []
  }
 ],
 "metadata": {
  "kernelspec": {
   "display_name": "Python 3",
   "language": "python",
   "name": "python3"
  },
  "language_info": {
   "codemirror_mode": {
    "name": "ipython",
    "version": 3
   },
   "file_extension": ".py",
   "mimetype": "text/x-python",
   "name": "python",
   "nbconvert_exporter": "python",
   "pygments_lexer": "ipython3",
   "version": "3.9.4"
  }
 },
 "nbformat": 4,
 "nbformat_minor": 5
}
