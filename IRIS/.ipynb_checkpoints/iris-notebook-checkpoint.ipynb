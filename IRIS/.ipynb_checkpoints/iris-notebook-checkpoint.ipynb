{
 "cells": [
  {
   "cell_type": "code",
   "execution_count": 44,
   "metadata": {},
   "outputs": [],
   "source": [
    "from sklearn import datasets\n",
    "import numpy as np\n",
    "import seaborn as sn"
   ]
  },
  {
   "cell_type": "markdown",
   "metadata": {},
   "source": [
    "IRIS\n",
    "-------\n",
    "Import the data:"
   ]
  },
  {
   "cell_type": "code",
   "execution_count": 2,
   "metadata": {},
   "outputs": [],
   "source": [
    "irisData = datasets.load_iris()['data']\n",
    "class1 = irisData[0:50]\n",
    "class2 = irisData[50:100]\n",
    "class3 = irisData[100:150]\n",
    "classes = [class1, class2, class3]\n",
    "\n",
    "features = np.array([0,1,2,3])"
   ]
  },
  {
   "cell_type": "markdown",
   "metadata": {},
   "source": [
    "Extract the training and testing data for the different classes: "
   ]
  },
  {
   "cell_type": "code",
   "execution_count": 3,
   "metadata": {},
   "outputs": [],
   "source": [
    "training1 = [class1[0:30], features]\n",
    "training2 = [class2[0:30], features]\n",
    "training3 = [class3[0:30], features]\n",
    "training = [training1, training2, training3]\n",
    "\n",
    "testing1 = class1[30:50]\n",
    "testing2 = class2[30:50]\n",
    "testing3 = class3[30:50]\n",
    "testing = [testing1, testing2, testing3]"
   ]
  },
  {
   "cell_type": "markdown",
   "metadata": {},
   "source": [
    "In order to classify the data we need to define the sigmoid function:"
   ]
  },
  {
   "cell_type": "code",
   "execution_count": 71,
   "metadata": {},
   "outputs": [],
   "source": [
    "def sigmoid(X):\n",
    "    return 1/(1+np.exp(-X))"
   ]
  },
  {
   "cell_type": "markdown",
   "metadata": {},
   "source": [
    "The training is done by minimizing the mean square error of the classifier.  The MSE is given by:\n",
    "\n",
    "$\n",
    "MSE = \\frac{1}{2}\\sum_{k=1}^{N} (g_k - t_k)^T(g_k-t_k)\n",
    "$\n",
    "\n",
    "t_k is the true classification of each $x_k$ and $g_k = Wx_k$. W is a weighting matrix for the differnte values in the vector x. This the only tweakable parameter and thus, in order to minimize the MSE, we need to find the gradient of the MSE with respect to W and update W with a step size, $\\alpha$ times the gradient. This is done many times iterativly.\n",
    "\n",
    "\n",
    "Defining some parameters for the trainging of the classifier:"
   ]
  },
  {
   "cell_type": "markdown",
   "metadata": {},
   "source": [
    "Defining the weighting matrix and the target data, $t_k$:"
   ]
  },
  {
   "cell_type": "code",
   "execution_count": 159,
   "metadata": {},
   "outputs": [
    {
     "name": "stdout",
     "output_type": "stream",
     "text": [
      "[[-1.29095559  2.07343177  0.17114917  0.86931204 -1.28190104]\n",
      " [-0.06565024 -0.55410963 -0.08116954  0.14554024  1.54854535]\n",
      " [ 1.02111136 -1.72514945  0.00707952 -0.8346474  -0.45714141]]\n"
     ]
    }
   ],
   "source": [
    "N_iter = 5000 # Number of iterations\n",
    "alpha = 0.01 # Step length\n",
    "features = [0, 1, 2, 3]\n",
    "F = len(features) # Number of features\n",
    "C = len(classes)  # Number of classes\n",
    "\n",
    "\n",
    "W = np.zeros((C, F))\n",
    "w_0 = np.zeros((C, 1))\n",
    "W = np.concatenate((W, w_0), axis=1)\n",
    "\n",
    "target1 = np.array(([1],[0],[0]))\n",
    "target2 = np.array(([0],[1],[0]))\n",
    "target3 = np.array(([0],[0],[1]))\n",
    "target = [target1, target2, target3]\n",
    "\n",
    "for _ in range(N_iter):\n",
    "        W_prev = W\n",
    "        grad_MSE = np.zeros((C,F+1))\n",
    "        for k in range(len(training)):\n",
    "            for (x, tk) in zip(training[k][0], target):\n",
    "                xk = np.append(x, 1)\n",
    "                xk = xk.reshape(F+1, 1)\n",
    "                zk = W@xk\n",
    "                gk = sigmoid(zk)\n",
    "                temp = np.multiply(gk-tk, gk)\n",
    "                temp = np.multiply(temp, np.ones((C,1))-gk)\n",
    "                grad_MSE += temp@xk.T\n",
    "        W = W_prev - alpha*grad_MSE\n",
    "print(W)"
   ]
  },
  {
   "cell_type": "code",
   "execution_count": 161,
   "metadata": {},
   "outputs": [
    {
     "name": "stdout",
     "output_type": "stream",
     "text": [
      "[1]\n",
      "[0]\n",
      "[0]\n",
      "[0]\n",
      "[1]\n",
      "[1]\n",
      "[0]\n",
      "[0]\n",
      "[0]\n",
      "[0]\n",
      "[0]\n",
      "[2]\n",
      "[0]\n",
      "[0]\n",
      "[0]\n",
      "[1]\n",
      "[0]\n",
      "[0]\n",
      "[0]\n",
      "[0]\n",
      "[2]\n",
      "[2]\n",
      "[2]\n",
      "[2]\n",
      "[0]\n",
      "[0]\n",
      "[2]\n",
      "[2]\n",
      "[0]\n",
      "[2]\n",
      "[2]\n",
      "[2]\n",
      "[2]\n",
      "[2]\n",
      "[2]\n",
      "[1]\n",
      "[1]\n",
      "[2]\n",
      "[1]\n",
      "[1]\n",
      "[2]\n",
      "[2]\n",
      "[2]\n",
      "[2]\n",
      "[2]\n",
      "[2]\n",
      "[0]\n",
      "[0]\n",
      "[0]\n",
      "[2]\n",
      "[0]\n",
      "[2]\n",
      "[1]\n",
      "[0]\n",
      "[0]\n",
      "[1]\n",
      "[2]\n",
      "[2]\n",
      "[0]\n",
      "[0]\n",
      "[[15.  3.  8.]\n",
      " [ 4.  4.  2.]\n",
      " [ 1. 13. 10.]]\n"
     ]
    },
    {
     "data": {
      "text/plain": [
       "<AxesSubplot:>"
      ]
     },
     "execution_count": 161,
     "metadata": {},
     "output_type": "execute_result"
    },
    {
     "data": {
      "image/png": "[encoded data removed]",
      "text/plain": [
       "<Figure size 432x288 with 2 Axes>"
      ]
     },
     "metadata": {
      "needs_background": "light"
     },
     "output_type": "display_data"
    }
   ],
   "source": [
    "confusion = np.zeros((3,3))\n",
    "\n",
    "for k in range(len(classes)):\n",
    "    for x in testing[k]:\n",
    "        xk = np.append(x, 1)\n",
    "        gk = sigmoid(W@xk)\n",
    "        gk = gk.reshape(C, 1)\n",
    "        label = np.argmax(gk, axis=0)\n",
    "        print(label)\n",
    "        confusion[label, k] += 1\n",
    "print(confusion)\n",
    "sn.heatmap(confusion, annot = True)"
   ]
  },
  {
   "cell_type": "code",
   "execution_count": null,
   "metadata": {},
   "outputs": [],
   "source": []
  }
 ],
 "metadata": {
  "kernelspec": {
   "display_name": "Python 3.8.5 64-bit ('base': conda)",
   "language": "python",
   "name": "python385jvsc74a57bd06f46f7eecf513ccb9723df9b1e51a51990d29cc5250a5d50f9bea070973a2595"
  },
  "language_info": {
   "codemirror_mode": {
    "name": "ipython",
    "version": 3
   },
   "file_extension": ".py",
   "mimetype": "text/x-python",
   "name": "python",
   "nbconvert_exporter": "python",
   "pygments_lexer": "ipython3",
   "version": "3.8.5"
  },
  "metadata": {
   "interpreter": {
    "hash": "6f46f7eecf513ccb9723df9b1e51a51990d29cc5250a5d50f9bea070973a2595"
   }
  }
 },
 "nbformat": 4,
 "nbformat_minor": 2
}
